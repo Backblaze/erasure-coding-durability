{
 "cells": [
  {
   "cell_type": "markdown",
   "metadata": {},
   "source": [
    "# Calculation\n",
    "\n",
    "Let look at one period of $R$ days.  What are the chances of losing\n",
    "data in that period?  For that to happen, P+1 shards (or more) would have to fail \n",
    "in that period.\n",
    "\n",
    "Over one year, the chances that a shard will fail is evenly distributed over\n",
    "all of the $R$-day periods in the year.  We will use $F$ to denote the failure\n",
    "rate of one shard in an $R$-day period:\n",
    "\n",
    "> $F = A\\frac{R}{365}$\n",
    "\n",
    "To precisely compute the probability of failure during one period, you need to\n",
    "translate the failure rate into a failure probability.  Usually, we use a [Poisson\n",
    "distribution](https://en.wikipedia.org/wiki/Poisson_distribution) for failures to\n",
    "compute the probability.  Given a failure rate $F$, the probability of one or more\n",
    "failures is $1 - e^F$.  For small $F$, this is very close to $F$, which is what we'll\n",
    "use here for simplicity.  So we will be a little sloppy and use $F$ both for the \n",
    "failure rate, and for the probability of failure.\n",
    "\n",
    "Given the probability of one shard failing, the probability of $n$ specific shards\n",
    "failing is obtained by multiplying their probablities together, because we have \n",
    "assumed that their failures are independent:\n",
    "\n",
    "> $F^n$\n",
    "    \n",
    "That was the probability for *n* specific shards.  What we care about is the\n",
    "probability of losing any *n* shards.  For that we multiply the probability above\n",
    "times the number of ways to choose *n* shards from the full set of D+P shards:\n",
    " \n",
    "> $\\binom{n}{D + P} F^n$\n",
    "    \n",
    "We also lose data if more than n shards fail in the period.  To include those,\n",
    "we can sum the above formula for n through D+P shards:\n",
    "\n",
    "> $\\sum_{i=n}^{D+P} F^i$\n",
    "    \n",
    "The durability in each period is inverse of that.  Durability over the full year \n",
    "happens when there's durability in all of the periods, which is the product of\n",
    "probabilities:\n",
    "\n",
    "> $\\prod_{1}^{365/R} (1 - \\sum_{i=n}^{D+P} F^i)$\n"
   ]
  }
 ],
 "metadata": {
  "kernelspec": {
   "display_name": "Python 3",
   "language": "python",
   "name": "python3"
  },
  "language_info": {
   "codemirror_mode": {
    "name": "ipython",
    "version": 3
   },
   "file_extension": ".py",
   "mimetype": "text/x-python",
   "name": "python",
   "nbconvert_exporter": "python",
   "pygments_lexer": "ipython3",
   "version": "3.5.4"
  }
 },
 "nbformat": 4,
 "nbformat_minor": 2
}
